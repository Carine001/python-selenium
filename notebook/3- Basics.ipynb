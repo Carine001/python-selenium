{
 "cells": [
  {
   "cell_type": "code",
   "execution_count": 363,
   "id": "0e2747b9",
   "metadata": {},
   "outputs": [],
   "source": [
    "# import required library\n",
    "from selenium import webdriver\n",
    "from selenium.webdriver.chrome.service import Service as ChromeService\n",
    "from selenium.webdriver.common.keys import Keys\n",
    "from selenium.webdriver.support.ui import WebDriverWait\n",
    "from selenium.webdriver.common.by import By\n",
    "from selenium.webdriver.support import expected_conditions as EC\n",
    "\n",
    "# import python libraries\n",
    "import time"
   ]
  },
  {
   "cell_type": "code",
   "execution_count": 364,
   "id": "d57d3d4b",
   "metadata": {},
   "outputs": [],
   "source": [
    "# get chrome driver\n",
    "chrome_service = ChromeService(r'..\\drivers\\chrome-driver.exe')"
   ]
  },
  {
   "cell_type": "code",
   "execution_count": 365,
   "id": "3056f54d",
   "metadata": {},
   "outputs": [],
   "source": [
    "# add options for the driver\n",
    "options = webdriver.ChromeOptions()\n",
    "\n",
    "options.add_argument(\"--start-maximized\")\n",
    "\n",
    "# assign options to the driver\n",
    "driver = webdriver.Chrome(service=chrome_service, options=options)"
   ]
  },
  {
   "cell_type": "code",
   "execution_count": 366,
   "id": "743311ba",
   "metadata": {},
   "outputs": [],
   "source": [
    "# open web page\n",
    "driver.get(\"https://www.google.com\")"
   ]
  },
  {
   "cell_type": "code",
   "execution_count": 367,
   "id": "15abd4f1",
   "metadata": {},
   "outputs": [
    {
     "name": "stderr",
     "output_type": "stream",
     "text": [
      "C:\\Users\\wassi\\AppData\\Local\\Temp/ipykernel_5424/3831809592.py:9: DeprecationWarning: find_element_by_* commands are deprecated. Please use find_element() instead\n",
      "  cookies_popup = driver.find_element_by_xpath(\"//button[.//*[contains(text(), 'accepte')]]\")\n"
     ]
    }
   ],
   "source": [
    "# close google cookies popup\n",
    "# xpath = \"//*[@id='L2AGLb']\"\n",
    "# cookies_popup = driver.find_element_by_xpath(xpath)\n",
    "# cookies_popup.click()\n",
    "\n",
    "# cookies_popup = driver.find_elements_by_xpath(\"//button[.//div[@role = 'none']]\")[1]\n",
    "# cookies_popup.click()\n",
    "\n",
    "cookies_popup = driver.find_element_by_xpath(\"//button[.//*[contains(text(), 'accepte')]]\")\n",
    "cookies_popup.click()"
   ]
  },
  {
   "cell_type": "code",
   "execution_count": 368,
   "id": "41e725dc",
   "metadata": {},
   "outputs": [
    {
     "name": "stderr",
     "output_type": "stream",
     "text": [
      "C:\\Users\\wassi\\AppData\\Local\\Temp/ipykernel_5424/707968489.py:2: DeprecationWarning: find_element_by_* commands are deprecated. Please use find_element() instead\n",
      "  element = driver.find_element_by_name(\"q\")\n"
     ]
    }
   ],
   "source": [
    "# find search area and type text and hit text\n",
    "element = driver.find_element_by_name(\"q\")\n",
    "element.send_keys(\"Wassim AZIRAR\")\n",
    "element.send_keys(Keys.RETURN)"
   ]
  },
  {
   "cell_type": "code",
   "execution_count": 369,
   "id": "d074dec4",
   "metadata": {},
   "outputs": [
    {
     "name": "stdout",
     "output_type": "stream",
     "text": [
      "https://ch.linkedin.com/in/wassimazirar\n",
      "https://www.malt.fr/profile/wassimazirar\n",
      "https://twitter.com/wassim_azirar?lang=fr\n",
      "https://www.societe.com/societe/neoware-877559971.html\n",
      "https://www.societe.com/societe/neoware-877559971.html\n",
      "https://dirigeant.societe.com/dirigeant/Wassim.AZIRAR.84962004.html\n",
      "https://github.com/wassim-azirar\n",
      "https://blog.soat.fr/author/wassim-azirar/\n",
      "http://entreprises.lefigaro.fr/neoware-75/entreprise-877559971\n",
      "https://fr-fr.facebook.com/wassim.azirar.71\n"
     ]
    }
   ],
   "source": [
    "try:\n",
    "  # wait for search results to be fetched\n",
    "  WebDriverWait(driver, 10).until(EC.presence_of_element_located((By.XPATH, \".//*[contains(@class,'h3')]\")))\n",
    "\n",
    "except Exception as e:\n",
    "  print(e)\n",
    "\n",
    "# searchResults = driver.find_elements_by_class_name('g')\n",
    "searchResults = driver.find_elements(By.CLASS_NAME, \"g\")\n",
    "\n",
    "for result in searchResults:\n",
    "    # link = result.find_element_by_css_selector('a').get_attribute('href')\n",
    "    link = result.find_element(By.CSS_SELECTOR, 'a').get_attribute('href')\n",
    "    print(link)\n"
   ]
  }
 ],
 "metadata": {
  "kernelspec": {
   "display_name": "Python 3",
   "language": "python",
   "name": "python3"
  },
  "language_info": {
   "codemirror_mode": {
    "name": "ipython",
    "version": 3
   },
   "file_extension": ".py",
   "mimetype": "text/x-python",
   "name": "python",
   "nbconvert_exporter": "python",
   "pygments_lexer": "ipython3",
   "version": "3.10.0"
  }
 },
 "nbformat": 4,
 "nbformat_minor": 5
}
