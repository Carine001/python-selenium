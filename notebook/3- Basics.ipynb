{
 "cells": [
  {
   "cell_type": "code",
   "execution_count": null,
   "id": "0e2747b9",
   "metadata": {},
   "outputs": [],
   "source": [
    "# import required library\n",
    "from selenium import webdriver\n",
    "from selenium.webdriver.chrome.service import Service as ChromeService\n",
    "from selenium.webdriver.common.keys import Keys\n",
    "from selenium.webdriver.support.ui import WebDriverWait\n",
    "from selenium.webdriver.common.by import By\n",
    "from selenium.webdriver.support import expected_conditions as EC\n",
    "\n",
    "# import python libraries\n",
    "import time"
   ]
  },
  {
   "cell_type": "code",
   "execution_count": null,
   "id": "d57d3d4b",
   "metadata": {},
   "outputs": [],
   "source": [
    "# get chrome driver\n",
    "chrome_service = ChromeService(r'..\\drivers\\chrome-driver.exe')"
   ]
  },
  {
   "cell_type": "code",
   "execution_count": null,
   "id": "3056f54d",
   "metadata": {},
   "outputs": [],
   "source": [
    "# add options for the driver\n",
    "options = webdriver.ChromeOptions()\n",
    "\n",
    "options.add_argument(\"--start-maximized\")\n",
    "\n",
    "# assign options to the driver\n",
    "driver = webdriver.Chrome(service=chrome_service, options=options)"
   ]
  },
  {
   "cell_type": "code",
   "execution_count": null,
   "id": "743311ba",
   "metadata": {},
   "outputs": [],
   "source": [
    "# open web page\n",
    "driver.get(\"https://www.google.com\")"
   ]
  },
  {
   "cell_type": "code",
   "execution_count": null,
   "id": "15abd4f1",
   "metadata": {},
   "outputs": [],
   "source": [
    "# close google cookies popup\n",
    "# xpath = \"//*[@id='L2AGLb']\"\n",
    "# cookies_popup = driver.find_element_by_xpath(xpath)\n",
    "# cookies_popup.click()\n",
    "\n",
    "# cookies_popup = driver.find_elements_by_xpath(\"//button[.//div[@role = 'none']]\")[1]\n",
    "# cookies_popup.click()\n",
    "\n",
    "cookies_popup = driver.find_element_by_xpath(\"//button[.//*[contains(text(), 'accepte')]]\")\n",
    "cookies_popup.click()"
   ]
  },
  {
   "cell_type": "code",
   "execution_count": null,
   "id": "41e725dc",
   "metadata": {},
   "outputs": [],
   "source": [
    "# find search area and type text and hit text\n",
    "element = driver.find_element_by_name(\"q\")\n",
    "element.send_keys(\"Wassim AZIRAR\")\n",
    "element.send_keys(Keys.RETURN)"
   ]
  },
  {
   "cell_type": "code",
   "execution_count": null,
   "id": "d074dec4",
   "metadata": {},
   "outputs": [],
   "source": [
    "try:\n",
    "  # wait for search results to be fetched\n",
    "  WebDriverWait(driver, 10).until(EC.presence_of_element_located((By.XPATH, \".//*[contains(@class,'h3')]\")))\n",
    "\n",
    "except Exception as e:\n",
    "  print(e)\n",
    "\n",
    "# searchResults = driver.find_elements_by_class_name('g')\n",
    "searchResults = driver.find_elements(By.CLASS_NAME, \"g\")\n",
    "\n",
    "for result in searchResults:\n",
    "    # link = result.find_element_by_css_selector('a').get_attribute('href')\n",
    "    link = result.find_element(By.CSS_SELECTOR, 'a').get_attribute('href')\n",
    "    print(link)"
   ]
  }
 ],
 "metadata": {
  "kernelspec": {
   "display_name": "Python 3",
   "language": "python",
   "name": "python3"
  },
  "language_info": {
   "codemirror_mode": {
    "name": "ipython",
    "version": 3
   },
   "file_extension": ".py",
   "mimetype": "text/x-python",
   "name": "python",
   "nbconvert_exporter": "python",
   "pygments_lexer": "ipython3",
   "version": "3.10.0"
  }
 },
 "nbformat": 4,
 "nbformat_minor": 5
}
