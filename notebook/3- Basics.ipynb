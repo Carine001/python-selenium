{
 "cells": [
  {
   "cell_type": "code",
   "execution_count": 1,
   "id": "0e2747b9",
   "metadata": {},
   "outputs": [],
   "source": [
    "# import required library\n",
    "from selenium import webdriver\n",
    "from selenium.webdriver.chrome.service import Service as ChromeService\n",
    "from selenium.webdriver.common.keys import Keys\n",
    "from selenium.webdriver.support.ui import WebDriverWait\n",
    "from selenium.webdriver.common.by import By\n",
    "from selenium.webdriver.support import expected_conditions as EC\n",
    "\n",
    "# import python libraries\n",
    "import time"
   ]
  },
  {
   "cell_type": "code",
   "execution_count": 2,
   "id": "d57d3d4b",
   "metadata": {},
   "outputs": [],
   "source": [
    "# get chrome driver\n",
    "chrome_service = ChromeService(r'..\\drivers\\chrome-driver.exe')"
   ]
  },
  {
   "cell_type": "code",
   "execution_count": 3,
   "id": "3056f54d",
   "metadata": {},
   "outputs": [],
   "source": [
    "# add options for the driver\n",
    "options = webdriver.ChromeOptions()\n",
    "\n",
    "options.add_argument(\"--start-maximized\")\n",
    "\n",
    "# assign options to the driver\n",
    "driver = webdriver.Chrome(service=chrome_service, options=options)"
   ]
  },
  {
   "cell_type": "code",
   "execution_count": 4,
   "id": "743311ba",
   "metadata": {},
   "outputs": [],
   "source": [
    "# open web page\n",
    "driver.get(\"https://www.google.com\")"
   ]
  },
  {
   "cell_type": "code",
   "execution_count": 5,
   "id": "15abd4f1",
   "metadata": {},
   "outputs": [],
   "source": [
    "# close google cookies popup\n",
    "# xpath = \"//*[@id='L2AGLb']\"\n",
    "# cookies_popup = driver.find_element_by_xpath(xpath)\n",
    "# cookies_popup.click()\n",
    "\n",
    "# cookies_popup = driver.find_elements_by_xpath(\"//button[.//div[@role = 'none']]\")[1]\n",
    "# cookies_popup.click()\n",
    "\n",
    "# cookies_popup = driver.find_element_by_xpath(\"//button[.//*[contains(text(), 'accepte')]]\")\n",
    "cookies_popup = driver.find_element(By.XPATH, \"//button[.//*[contains(text(), 'accepte')]]\")\n",
    "cookies_popup.click()"
   ]
  },
  {
   "cell_type": "code",
   "execution_count": 6,
   "id": "41e725dc",
   "metadata": {},
   "outputs": [],
   "source": [
    "# find search area and type text and hit text\n",
    "# element = driver.find_element_by_name(\"q\")\n",
    "element = driver.find_element(By.NAME, \"q\")\n",
    "element.send_keys(\"Wassim AZIRAR\")\n",
    "element.send_keys(Keys.RETURN)"
   ]
  },
  {
   "cell_type": "code",
   "execution_count": 7,
   "id": "d074dec4",
   "metadata": {},
   "outputs": [
    {
     "name": "stdout",
     "output_type": "stream",
     "text": [
      "https://ch.linkedin.com/in/wassimazirar\n",
      "https://ch.linkedin.com/in/wassimazirar\n",
      "https://fr.linkedin.com/in/wassimazirar/en\n",
      "https://www.malt.fr/profile/wassimazirar\n",
      "https://twitter.com/wassim_azirar?lang=fr\n",
      "https://www.societe.com/societe/neoware-877559971.html\n",
      "https://www.societe.com/societe/neoware-877559971.html\n",
      "https://dirigeant.societe.com/dirigeant/Wassim.AZIRAR.84962004.html\n",
      "https://github.com/wassim-azirar\n",
      "https://blog.soat.fr/author/wassim-azirar/\n",
      "http://entreprises.lefigaro.fr/neoware-75/entreprise-877559971\n"
     ]
    },
    {
     "ename": "StaleElementReferenceException",
     "evalue": "Message: stale element reference: element is not attached to the page document\n  (Session info: chrome=95.0.4638.69)\nStacktrace:\nBacktrace:\n\tOrdinal0 [0x010706F3+2492147]\n\tOrdinal0 [0x01009BD1+2071505]\n\tOrdinal0 [0x00F12478+1057912]\n\tOrdinal0 [0x00F14BA4+1067940]\n\tOrdinal0 [0x00F14A6E+1067630]\n\tOrdinal0 [0x00F14CD0+1068240]\n\tOrdinal0 [0x00F3C6A8+1230504]\n\tOrdinal0 [0x00F334E1+1193185]\n\tOrdinal0 [0x00F557FA+1333242]\n\tOrdinal0 [0x00F33466+1193062]\n\tOrdinal0 [0x00F558AA+1333418]\n\tOrdinal0 [0x00F64F38+1396536]\n\tOrdinal0 [0x00F5568B+1332875]\n\tOrdinal0 [0x00F321D4+1188308]\n\tOrdinal0 [0x00F3302F+1191983]\n\tGetHandleVerifier [0x011F67A6+1545030]\n\tGetHandleVerifier [0x012A105C+2243580]\n\tGetHandleVerifier [0x010FBC97+518199]\n\tGetHandleVerifier [0x010FAD80+514336]\n\tOrdinal0 [0x0100ED2D+2092333]\n\tOrdinal0 [0x01012EE8+2109160]\n\tOrdinal0 [0x01013022+2109474]\n\tOrdinal0 [0x0101CB71+2149233]\n\tBaseThreadInitThunk [0x759EFA29+25]\n\tRtlGetAppContainerNamedObjectPath [0x776B7A9E+286]\n\tRtlGetAppContainerNamedObjectPath [0x776B7A6E+238]\n",
     "output_type": "error",
     "traceback": [
      "\u001b[1;31m---------------------------------------------------------------------------\u001b[0m",
      "\u001b[1;31mStaleElementReferenceException\u001b[0m            Traceback (most recent call last)",
      "\u001b[1;32m~\\AppData\\Local\\Temp/ipykernel_4296/3597094204.py\u001b[0m in \u001b[0;36m<module>\u001b[1;34m\u001b[0m\n\u001b[0;32m     18\u001b[0m \u001b[1;33m\u001b[0m\u001b[0m\n\u001b[0;32m     19\u001b[0m \u001b[1;32mfor\u001b[0m \u001b[0mresult\u001b[0m \u001b[1;32min\u001b[0m \u001b[0msearchResults\u001b[0m\u001b[1;33m:\u001b[0m\u001b[1;33m\u001b[0m\u001b[1;33m\u001b[0m\u001b[0m\n\u001b[1;32m---> 20\u001b[1;33m   \u001b[0mlink\u001b[0m \u001b[1;33m=\u001b[0m \u001b[0mresult\u001b[0m\u001b[1;33m.\u001b[0m\u001b[0mfind_element\u001b[0m\u001b[1;33m(\u001b[0m\u001b[0mBy\u001b[0m\u001b[1;33m.\u001b[0m\u001b[0mCSS_SELECTOR\u001b[0m\u001b[1;33m,\u001b[0m \u001b[1;34m'a'\u001b[0m\u001b[1;33m)\u001b[0m\u001b[1;33m.\u001b[0m\u001b[0mget_attribute\u001b[0m\u001b[1;33m(\u001b[0m\u001b[1;34m'href'\u001b[0m\u001b[1;33m)\u001b[0m\u001b[1;33m\u001b[0m\u001b[1;33m\u001b[0m\u001b[0m\n\u001b[0m\u001b[0;32m     21\u001b[0m   \u001b[0mprint\u001b[0m\u001b[1;33m(\u001b[0m\u001b[0mlink\u001b[0m\u001b[1;33m)\u001b[0m\u001b[1;33m\u001b[0m\u001b[1;33m\u001b[0m\u001b[0m\n",
      "\u001b[1;32m~\\AppData\\Roaming\\Python\\Python310\\site-packages\\selenium\\webdriver\\remote\\webelement.py\u001b[0m in \u001b[0;36mfind_element\u001b[1;34m(self, by, value)\u001b[0m\n\u001b[0;32m    716\u001b[0m             \u001b[0mvalue\u001b[0m \u001b[1;33m=\u001b[0m \u001b[1;34m'[name=\"%s\"]'\u001b[0m \u001b[1;33m%\u001b[0m \u001b[0mvalue\u001b[0m\u001b[1;33m\u001b[0m\u001b[1;33m\u001b[0m\u001b[0m\n\u001b[0;32m    717\u001b[0m \u001b[1;33m\u001b[0m\u001b[0m\n\u001b[1;32m--> 718\u001b[1;33m         return self._execute(Command.FIND_CHILD_ELEMENT,\n\u001b[0m\u001b[0;32m    719\u001b[0m                              {\"using\": by, \"value\": value})['value']\n\u001b[0;32m    720\u001b[0m \u001b[1;33m\u001b[0m\u001b[0m\n",
      "\u001b[1;32m~\\AppData\\Roaming\\Python\\Python310\\site-packages\\selenium\\webdriver\\remote\\webelement.py\u001b[0m in \u001b[0;36m_execute\u001b[1;34m(self, command, params)\u001b[0m\n\u001b[0;32m    691\u001b[0m             \u001b[0mparams\u001b[0m \u001b[1;33m=\u001b[0m \u001b[1;33m{\u001b[0m\u001b[1;33m}\u001b[0m\u001b[1;33m\u001b[0m\u001b[1;33m\u001b[0m\u001b[0m\n\u001b[0;32m    692\u001b[0m         \u001b[0mparams\u001b[0m\u001b[1;33m[\u001b[0m\u001b[1;34m'id'\u001b[0m\u001b[1;33m]\u001b[0m \u001b[1;33m=\u001b[0m \u001b[0mself\u001b[0m\u001b[1;33m.\u001b[0m\u001b[0m_id\u001b[0m\u001b[1;33m\u001b[0m\u001b[1;33m\u001b[0m\u001b[0m\n\u001b[1;32m--> 693\u001b[1;33m         \u001b[1;32mreturn\u001b[0m \u001b[0mself\u001b[0m\u001b[1;33m.\u001b[0m\u001b[0m_parent\u001b[0m\u001b[1;33m.\u001b[0m\u001b[0mexecute\u001b[0m\u001b[1;33m(\u001b[0m\u001b[0mcommand\u001b[0m\u001b[1;33m,\u001b[0m \u001b[0mparams\u001b[0m\u001b[1;33m)\u001b[0m\u001b[1;33m\u001b[0m\u001b[1;33m\u001b[0m\u001b[0m\n\u001b[0m\u001b[0;32m    694\u001b[0m \u001b[1;33m\u001b[0m\u001b[0m\n\u001b[0;32m    695\u001b[0m     \u001b[1;32mdef\u001b[0m \u001b[0mfind_element\u001b[0m\u001b[1;33m(\u001b[0m\u001b[0mself\u001b[0m\u001b[1;33m,\u001b[0m \u001b[0mby\u001b[0m\u001b[1;33m=\u001b[0m\u001b[0mBy\u001b[0m\u001b[1;33m.\u001b[0m\u001b[0mID\u001b[0m\u001b[1;33m,\u001b[0m \u001b[0mvalue\u001b[0m\u001b[1;33m=\u001b[0m\u001b[1;32mNone\u001b[0m\u001b[1;33m)\u001b[0m\u001b[1;33m:\u001b[0m\u001b[1;33m\u001b[0m\u001b[1;33m\u001b[0m\u001b[0m\n",
      "\u001b[1;32m~\\AppData\\Roaming\\Python\\Python310\\site-packages\\selenium\\webdriver\\remote\\webdriver.py\u001b[0m in \u001b[0;36mexecute\u001b[1;34m(self, driver_command, params)\u001b[0m\n\u001b[0;32m    416\u001b[0m         \u001b[0mresponse\u001b[0m \u001b[1;33m=\u001b[0m \u001b[0mself\u001b[0m\u001b[1;33m.\u001b[0m\u001b[0mcommand_executor\u001b[0m\u001b[1;33m.\u001b[0m\u001b[0mexecute\u001b[0m\u001b[1;33m(\u001b[0m\u001b[0mdriver_command\u001b[0m\u001b[1;33m,\u001b[0m \u001b[0mparams\u001b[0m\u001b[1;33m)\u001b[0m\u001b[1;33m\u001b[0m\u001b[1;33m\u001b[0m\u001b[0m\n\u001b[0;32m    417\u001b[0m         \u001b[1;32mif\u001b[0m \u001b[0mresponse\u001b[0m\u001b[1;33m:\u001b[0m\u001b[1;33m\u001b[0m\u001b[1;33m\u001b[0m\u001b[0m\n\u001b[1;32m--> 418\u001b[1;33m             \u001b[0mself\u001b[0m\u001b[1;33m.\u001b[0m\u001b[0merror_handler\u001b[0m\u001b[1;33m.\u001b[0m\u001b[0mcheck_response\u001b[0m\u001b[1;33m(\u001b[0m\u001b[0mresponse\u001b[0m\u001b[1;33m)\u001b[0m\u001b[1;33m\u001b[0m\u001b[1;33m\u001b[0m\u001b[0m\n\u001b[0m\u001b[0;32m    419\u001b[0m             response['value'] = self._unwrap_value(\n\u001b[0;32m    420\u001b[0m                 response.get('value', None))\n",
      "\u001b[1;32m~\\AppData\\Roaming\\Python\\Python310\\site-packages\\selenium\\webdriver\\remote\\errorhandler.py\u001b[0m in \u001b[0;36mcheck_response\u001b[1;34m(self, response)\u001b[0m\n\u001b[0;32m    241\u001b[0m                 \u001b[0malert_text\u001b[0m \u001b[1;33m=\u001b[0m \u001b[0mvalue\u001b[0m\u001b[1;33m[\u001b[0m\u001b[1;34m'alert'\u001b[0m\u001b[1;33m]\u001b[0m\u001b[1;33m.\u001b[0m\u001b[0mget\u001b[0m\u001b[1;33m(\u001b[0m\u001b[1;34m'text'\u001b[0m\u001b[1;33m)\u001b[0m\u001b[1;33m\u001b[0m\u001b[1;33m\u001b[0m\u001b[0m\n\u001b[0;32m    242\u001b[0m             \u001b[1;32mraise\u001b[0m \u001b[0mexception_class\u001b[0m\u001b[1;33m(\u001b[0m\u001b[0mmessage\u001b[0m\u001b[1;33m,\u001b[0m \u001b[0mscreen\u001b[0m\u001b[1;33m,\u001b[0m \u001b[0mstacktrace\u001b[0m\u001b[1;33m,\u001b[0m \u001b[0malert_text\u001b[0m\u001b[1;33m)\u001b[0m  \u001b[1;31m# type: ignore[call-arg]  # mypy is not smart enough here\u001b[0m\u001b[1;33m\u001b[0m\u001b[1;33m\u001b[0m\u001b[0m\n\u001b[1;32m--> 243\u001b[1;33m         \u001b[1;32mraise\u001b[0m \u001b[0mexception_class\u001b[0m\u001b[1;33m(\u001b[0m\u001b[0mmessage\u001b[0m\u001b[1;33m,\u001b[0m \u001b[0mscreen\u001b[0m\u001b[1;33m,\u001b[0m \u001b[0mstacktrace\u001b[0m\u001b[1;33m)\u001b[0m\u001b[1;33m\u001b[0m\u001b[1;33m\u001b[0m\u001b[0m\n\u001b[0m\u001b[0;32m    244\u001b[0m \u001b[1;33m\u001b[0m\u001b[0m\n\u001b[0;32m    245\u001b[0m     \u001b[1;32mdef\u001b[0m \u001b[0m_value_or_default\u001b[0m\u001b[1;33m(\u001b[0m\u001b[0mself\u001b[0m\u001b[1;33m,\u001b[0m \u001b[0mobj\u001b[0m\u001b[1;33m:\u001b[0m \u001b[0mMapping\u001b[0m\u001b[1;33m[\u001b[0m\u001b[0m_KT\u001b[0m\u001b[1;33m,\u001b[0m \u001b[0m_VT\u001b[0m\u001b[1;33m]\u001b[0m\u001b[1;33m,\u001b[0m \u001b[0mkey\u001b[0m\u001b[1;33m:\u001b[0m \u001b[0m_KT\u001b[0m\u001b[1;33m,\u001b[0m \u001b[0mdefault\u001b[0m\u001b[1;33m:\u001b[0m \u001b[0m_VT\u001b[0m\u001b[1;33m)\u001b[0m \u001b[1;33m->\u001b[0m \u001b[0m_VT\u001b[0m\u001b[1;33m:\u001b[0m\u001b[1;33m\u001b[0m\u001b[1;33m\u001b[0m\u001b[0m\n",
      "\u001b[1;31mStaleElementReferenceException\u001b[0m: Message: stale element reference: element is not attached to the page document\n  (Session info: chrome=95.0.4638.69)\nStacktrace:\nBacktrace:\n\tOrdinal0 [0x010706F3+2492147]\n\tOrdinal0 [0x01009BD1+2071505]\n\tOrdinal0 [0x00F12478+1057912]\n\tOrdinal0 [0x00F14BA4+1067940]\n\tOrdinal0 [0x00F14A6E+1067630]\n\tOrdinal0 [0x00F14CD0+1068240]\n\tOrdinal0 [0x00F3C6A8+1230504]\n\tOrdinal0 [0x00F334E1+1193185]\n\tOrdinal0 [0x00F557FA+1333242]\n\tOrdinal0 [0x00F33466+1193062]\n\tOrdinal0 [0x00F558AA+1333418]\n\tOrdinal0 [0x00F64F38+1396536]\n\tOrdinal0 [0x00F5568B+1332875]\n\tOrdinal0 [0x00F321D4+1188308]\n\tOrdinal0 [0x00F3302F+1191983]\n\tGetHandleVerifier [0x011F67A6+1545030]\n\tGetHandleVerifier [0x012A105C+2243580]\n\tGetHandleVerifier [0x010FBC97+518199]\n\tGetHandleVerifier [0x010FAD80+514336]\n\tOrdinal0 [0x0100ED2D+2092333]\n\tOrdinal0 [0x01012EE8+2109160]\n\tOrdinal0 [0x01013022+2109474]\n\tOrdinal0 [0x0101CB71+2149233]\n\tBaseThreadInitThunk [0x759EFA29+25]\n\tRtlGetAppContainerNamedObjectPath [0x776B7A9E+286]\n\tRtlGetAppContainerNamedObjectPath [0x776B7A6E+238]\n"
     ]
    }
   ],
   "source": [
    "try:\n",
    "  # wait for search results to be fetched\n",
    "  WebDriverWait(driver, 10).until(EC.presence_of_element_located((By.XPATH, \".//*[contains(@class,'h3')]\")))\n",
    "\n",
    "except Exception as e:\n",
    "  print(e)\n",
    "\n",
    "# searchResults = driver.find_elements_by_class_name('g')\n",
    "searchResults = driver.find_elements(By.CLASS_NAME, \"g\")\n",
    "\n",
    "for result in searchResults:\n",
    "  # link = result.find_element_by_css_selector('a').get_attribute('href')\n",
    "  link = result.find_element(By.CSS_SELECTOR, 'a').get_attribute('href')\n",
    "  print(link)\n",
    "    \n",
    "next = driver.find_element(By.XPATH, \"//a[.//*[contains(text(), 'Suivant')]]\")\n",
    "driver.get(next.get_attribute('href'))"
   ]
  },
  {
   "cell_type": "code",
   "execution_count": null,
   "id": "c53804c0",
   "metadata": {},
   "outputs": [],
   "source": [
    "# close browser\n",
    "driver.quit()"
   ]
  }
 ],
 "metadata": {
  "kernelspec": {
   "display_name": "Python 3",
   "language": "python",
   "name": "python3"
  },
  "language_info": {
   "codemirror_mode": {
    "name": "ipython",
    "version": 3
   },
   "file_extension": ".py",
   "mimetype": "text/x-python",
   "name": "python",
   "nbconvert_exporter": "python",
   "pygments_lexer": "ipython3",
   "version": "3.10.0"
  }
 },
 "nbformat": 4,
 "nbformat_minor": 5
}
