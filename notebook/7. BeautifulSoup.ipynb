{
 "cells": [
  {
   "cell_type": "code",
   "execution_count": null,
   "id": "0e2747b9",
   "metadata": {},
   "outputs": [],
   "source": [
    "from selenium import webdriver\n",
    "from selenium.webdriver.chrome.service import Service as ChromeService\n",
    "from selenium.webdriver.common.keys import Keys\n",
    "from selenium.webdriver.common.by import By\n",
    "from bs4 import BeautifulSoup"
   ]
  },
  {
   "cell_type": "code",
   "execution_count": null,
   "id": "d57d3d4b",
   "metadata": {},
   "outputs": [],
   "source": [
    "# get chrome driver\n",
    "chrome_service = ChromeService(r'..\\drivers\\chrome-driver.exe')"
   ]
  },
  {
   "cell_type": "code",
   "execution_count": null,
   "id": "3056f54d",
   "metadata": {},
   "outputs": [],
   "source": [
    "# add options for the driver\n",
    "options = webdriver.ChromeOptions()\n",
    "\n",
    "options.add_argument(\"--start-maximized\")\n",
    "\n",
    "# assign options to the driver\n",
    "driver = webdriver.Chrome(service=chrome_service, options=options)"
   ]
  },
  {
   "cell_type": "code",
   "execution_count": null,
   "id": "743311ba",
   "metadata": {},
   "outputs": [],
   "source": [
    "# open web page\n",
    "driver.get(\"https://www.transfermarkt.fr/detailsuche/spielerdetail/suche\")"
   ]
  },
  {
   "cell_type": "code",
   "execution_count": null,
   "id": "6aa3e403",
   "metadata": {},
   "outputs": [],
   "source": [
    "# WebDriverWait(driver, 10).until(EC.frame_to_be_available_and_switch_to_it((By.CSS_SELECTOR, \"iframe[id^='sp_message_iframe'][src^='https://cdn.privacy-mgmt.com']\")))\n",
    "# WebDriverWait(driver, 10).until(EC.element_to_be_clickable((By.XPATH, \"//button[@title='ACCEPTER TOUT']\"))).click()\n",
    "\n",
    "iframes = driver.find_elements(By.CSS_SELECTOR, \"iframe[id^='sp_message_iframe']\")\n",
    "driver.switch_to.frame(iframes[0])\n",
    "\n",
    "accept = driver.find_element(By.XPATH, \"//button[@title='ACCEPTER TOUT']\")\n",
    "accept.click()\n",
    "\n",
    "driver.switch_to.default_content()\n",
    "\n",
    "search = driver.find_element(By.XPATH, \"//input[@name='query']\")\n",
    "search.send_keys(\"ronaldo\")\n",
    "search.send_keys(Keys.ENTER)"
   ]
  },
  {
   "cell_type": "code",
   "execution_count": 90,
   "id": "98516b00",
   "metadata": {},
   "outputs": [
    {
     "name": "stdout",
     "output_type": "stream",
     "text": [
      "https://img.a.transfermarkt.technology/portrait/small/8198-1631656078.jpg?lm=1 => Cristiano Ronaldo\n",
      "https://img.a.transfermarkt.technology/portrait/small/434676-1596009251.jpg?lm=1 => Ronaldo Vieira\n",
      "https://img.a.transfermarkt.technology/portrait/small/599292-1612225072.jpg?lm=1 => Ronaldo Prieto\n",
      "https://img.a.transfermarkt.technology/portrait/small/271281-1553467774.jpg?lm=1 => Ronaldo Deaconu\n",
      "https://img.a.transfermarkt.technology/portrait/small/405768-1597922261.jpg?lm=1 => Ronaldo\n",
      "https://img.a.transfermarkt.technology/portrait/small/146660-1449071442.jpg?lm=1 => Ronaldo\n",
      "https://img.a.transfermarkt.technology/portrait/small/312570-1579697289.png?lm=1 => Ronaldo Cisneros\n",
      "https://img.a.transfermarkt.technology/portrait/small/236952-1634686494.jpeg?lm=1 => Ronaldo Mendes\n",
      "https://img.a.transfermarkt.technology/portrait/small/479637-1568727451.jpg?lm=1 => Ronaldo Camará\n",
      "https://img.a.transfermarkt.technology/portrait/small/default.jpg?lm=1 => Ronaldo González\n",
      "https://img.a.transfermarkt.technology/portrait/small/default.jpg?lm=1 => Ronaldo\n",
      "https://img.a.transfermarkt.technology/portrait/small/default.jpg?lm=1 => Ronaldo Torres\n",
      "https://img.a.transfermarkt.technology/portrait/small/default.jpg?lm=1 => Ronaldo Luis\n",
      "https://img.a.transfermarkt.technology/portrait/small/63063-1535531097.jpg?lm=1 => Ronaldo\n",
      "https://img.a.transfermarkt.technology/portrait/small/default.jpg?lm=1 => Ronaldo Lomi\n",
      "https://img.a.transfermarkt.technology/portrait/small/default.jpg?lm=1 => Roni Araújo\n",
      "https://img.a.transfermarkt.technology/portrait/small/84425-1601464094.jpg?lm=1 => Naldo\n",
      "https://img.a.transfermarkt.technology/portrait/small/default.jpg?lm=1 => Borba Filho\n",
      "https://img.a.transfermarkt.technology/portrait/small/default.jpg?lm=1 => Ronaldo de la Cruz\n",
      "https://img.a.transfermarkt.technology/portrait/small/default.jpg?lm=1 => Otto Mejía\n",
      "https://img.a.transfermarkt.technology/portrait/small/default.jpg?lm=1 => Ronald Aguirre\n"
     ]
    }
   ],
   "source": [
    "soup = BeautifulSoup(driver.page_source, 'lxml')\n",
    "\n",
    "title_finder = soup.find_all(\"img\", class_=\"bilderrahmen-fixed\")\n",
    "\n",
    "for title in title_finder:\n",
    "    print(title.get(\"src\") + ' => ' + title.get(\"alt\"))"
   ]
  }
 ],
 "metadata": {
  "kernelspec": {
   "display_name": "Python 3",
   "language": "python",
   "name": "python3"
  },
  "language_info": {
   "codemirror_mode": {
    "name": "ipython",
    "version": 3
   },
   "file_extension": ".py",
   "mimetype": "text/x-python",
   "name": "python",
   "nbconvert_exporter": "python",
   "pygments_lexer": "ipython3",
   "version": "3.10.0"
  }
 },
 "nbformat": 4,
 "nbformat_minor": 5
}
