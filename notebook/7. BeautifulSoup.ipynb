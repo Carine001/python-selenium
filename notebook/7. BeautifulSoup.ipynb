{
 "cells": [
  {
   "cell_type": "code",
   "execution_count": null,
   "id": "0e2747b9",
   "metadata": {},
   "outputs": [],
   "source": [
    "from selenium import webdriver\n",
    "from selenium.webdriver.chrome.service import Service as ChromeService\n",
    "from selenium.webdriver.common.keys import Keys\n",
    "from selenium.webdriver.common.by import By\n",
    "from bs4 import BeautifulSoup\n",
    "import psycopg2"
   ]
  },
  {
   "cell_type": "code",
   "execution_count": null,
   "id": "d57d3d4b",
   "metadata": {},
   "outputs": [],
   "source": [
    "# get chrome driver\n",
    "chrome_service = ChromeService(r'..\\drivers\\chrome-driver.exe')"
   ]
  },
  {
   "cell_type": "code",
   "execution_count": null,
   "id": "3056f54d",
   "metadata": {},
   "outputs": [],
   "source": [
    "# add options for the driver\n",
    "options = webdriver.ChromeOptions()\n",
    "\n",
    "options.add_argument(\"--start-maximized\")\n",
    "\n",
    "# assign options to the driver\n",
    "driver = webdriver.Chrome(service=chrome_service, options=options)"
   ]
  },
  {
   "cell_type": "code",
   "execution_count": null,
   "id": "743311ba",
   "metadata": {},
   "outputs": [],
   "source": [
    "# open web page\n",
    "driver.get(\"https://www.transfermarkt.fr/detailsuche/spielerdetail/suche\")"
   ]
  },
  {
   "cell_type": "code",
   "execution_count": null,
   "id": "6aa3e403",
   "metadata": {},
   "outputs": [],
   "source": [
    "# WebDriverWait(driver, 10).until(EC.frame_to_be_available_and_switch_to_it((By.CSS_SELECTOR, \"iframe[id^='sp_message_iframe'][src^='https://cdn.privacy-mgmt.com']\")))\n",
    "# WebDriverWait(driver, 10).until(EC.element_to_be_clickable((By.XPATH, \"//button[@title='ACCEPTER TOUT']\"))).click()\n",
    "\n",
    "iframes = driver.find_elements(By.CSS_SELECTOR, \"iframe[id^='sp_message_iframe']\")\n",
    "driver.switch_to.frame(iframes[0])\n",
    "\n",
    "accept = driver.find_element(By.XPATH, \"//button[@title='ACCEPTER TOUT']\")\n",
    "accept.click()\n",
    "\n",
    "driver.switch_to.default_content()\n",
    "\n",
    "search = driver.find_element(By.XPATH, \"//input[@name='query']\")\n",
    "search.send_keys(\"ronaldo\")\n",
    "search.send_keys(Keys.ENTER)"
   ]
  },
  {
   "cell_type": "code",
   "execution_count": null,
   "id": "381e05eb",
   "metadata": {},
   "outputs": [],
   "source": [
    "soup = BeautifulSoup(driver.page_source, 'lxml')\n",
    "titles = soup.find_all(\"img\", class_=\"bilderrahmen-fixed\")\n",
    "\n",
    "try:\n",
    "  for title in titles:\n",
    "    name = title.get(\"alt\")\n",
    "    image = title.get(\"src\")\n",
    "  \n",
    "    connection = psycopg2.connect(user=\"postgres\", password=\"changeme\", host=\"localhost\", port=\"5432\", database=\"python\")\n",
    "    cursor = connection.cursor()\n",
    "    cursor.execute('INSERT INTO players (name, image) VALUES (%s,%s)', (name, image))\n",
    "    connection.commit()\n",
    "    count = cursor.rowcount\n",
    "\n",
    "except (Exception, psycopg2.Error) as error:\n",
    "  print(\"Failed to insert records\", error)\n",
    "    \n",
    "except (Exception, psycopg2.IntegrityError) :\n",
    "  connection.rollback()\n",
    "\n",
    "finally:\n",
    "  if connection:\n",
    "    cursor.close()\n",
    "    connection.close()  \n",
    "    \n",
    "driver.quit()"
   ]
  }
 ],
 "metadata": {
  "kernelspec": {
   "display_name": "Python 3",
   "language": "python",
   "name": "python3"
  },
  "language_info": {
   "codemirror_mode": {
    "name": "ipython",
    "version": 3
   },
   "file_extension": ".py",
   "mimetype": "text/x-python",
   "name": "python",
   "nbconvert_exporter": "python",
   "pygments_lexer": "ipython3",
   "version": "3.10.0"
  }
 },
 "nbformat": 4,
 "nbformat_minor": 5
}
