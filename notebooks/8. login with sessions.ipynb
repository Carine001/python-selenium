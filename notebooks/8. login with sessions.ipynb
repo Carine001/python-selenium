{
 "cells": [
  {
   "cell_type": "code",
   "execution_count": null,
   "id": "0e2747b9",
   "metadata": {},
   "outputs": [],
   "source": [
    "import requests\n",
    "from bs4 import BeautifulSoup\n",
    "from lxml import html"
   ]
  },
  {
   "cell_type": "code",
   "execution_count": null,
   "id": "e999bb82",
   "metadata": {},
   "outputs": [],
   "source": [
    "# website to scrape\n",
    "quotes_url = \"http://quotes.toscrape.com/\"\n",
    "quotes_login_url = \"http://quotes.toscrape.com/login\""
   ]
  },
  {
   "cell_type": "code",
   "execution_count": null,
   "id": "424e9d40",
   "metadata": {},
   "outputs": [],
   "source": [
    "# create session\n",
    "session = requests.session()"
   ]
  },
  {
   "cell_type": "code",
   "execution_count": null,
   "id": "73260e03",
   "metadata": {},
   "outputs": [],
   "source": [
    "# get CSRF token\n",
    "login = session.get(quotes_login_url)"
   ]
  },
  {
   "cell_type": "code",
   "execution_count": null,
   "id": "e736cda4",
   "metadata": {},
   "outputs": [],
   "source": [
    "# parse the html and get token\n",
    "page_html = html.fromstring(login.content)\n",
    "csrf_token = page_html.xpath(\"//input[@type='hidden']/@value\")[0]"
   ]
  },
  {
   "cell_type": "code",
   "execution_count": null,
   "id": "d404b0e8",
   "metadata": {},
   "outputs": [],
   "source": [
    "# prepare login data\n",
    "payload = {\n",
    "    \"username\": \"wassim.azirar\", \n",
    "    \"password\": \"azerty\", \n",
    "    \"csrf_token\": csrf_token\n",
    "}"
   ]
  },
  {
   "cell_type": "code",
   "execution_count": null,
   "id": "81d0a07a",
   "metadata": {},
   "outputs": [],
   "source": [
    "# login and get response\n",
    "login = session.post(quotes_login_url, data=payload)\n",
    "result = session.get(quotes_url)\n",
    "\n",
    "# parse the html and get quotes\n",
    "print(BeautifulSoup(result.text, 'html.parser'))"
   ]
  }
 ],
 "metadata": {
  "kernelspec": {
   "display_name": "Python 3",
   "language": "python",
   "name": "python3"
  },
  "language_info": {
   "codemirror_mode": {
    "name": "ipython",
    "version": 3
   },
   "file_extension": ".py",
   "mimetype": "text/x-python",
   "name": "python",
   "nbconvert_exporter": "python",
   "pygments_lexer": "ipython3",
   "version": "3.10.0"
  }
 },
 "nbformat": 4,
 "nbformat_minor": 5
}
