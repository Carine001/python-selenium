{
 "cells": [
  {
   "cell_type": "code",
   "execution_count": null,
   "id": "0e2747b9",
   "metadata": {},
   "outputs": [],
   "source": [
    "# import required library\n",
    "from selenium import webdriver\n",
    "from selenium.webdriver.chrome.service import Service as ChromeService\n",
    "from selenium.webdriver.common.keys import Keys\n",
    "from selenium.webdriver.common.by import By\n",
    "from selenium.webdriver.support.ui import Select\n",
    "\n",
    "import time"
   ]
  },
  {
   "cell_type": "code",
   "execution_count": null,
   "id": "d57d3d4b",
   "metadata": {},
   "outputs": [],
   "source": [
    "# get chrome driver\n",
    "chrome_service = ChromeService(r'..\\drivers\\chromedriver.exe')"
   ]
  },
  {
   "cell_type": "code",
   "execution_count": null,
   "id": "3056f54d",
   "metadata": {},
   "outputs": [],
   "source": [
    "# add options for the driver\n",
    "options = webdriver.ChromeOptions()\n",
    "\n",
    "options.add_argument(\"--start-maximized\")\n",
    "\n",
    "# assign options to the driver\n",
    "driver = webdriver.Chrome(service=chrome_service, options=options)"
   ]
  },
  {
   "cell_type": "code",
   "execution_count": null,
   "id": "743311ba",
   "metadata": {},
   "outputs": [],
   "source": [
    "# open web page\n",
    "driver.get(\"https://www.reezocar.com/en/\")"
   ]
  },
  {
   "cell_type": "code",
   "execution_count": null,
   "id": "15abd4f1",
   "metadata": {},
   "outputs": [],
   "source": [
    "search_box = driver.find_element(By.XPATH, \"//input[contains(@class, 'searchInput')]\")\n",
    "search_box.send_keys(\"Mercedes 190E 2.5\")\n",
    "search_box.send_keys(Keys.ENTER)\n",
    "\n",
    "time.sleep(1)"
   ]
  },
  {
   "cell_type": "code",
   "execution_count": null,
   "id": "b139c7a5",
   "metadata": {},
   "outputs": [],
   "source": [
    "# option = driver.find_element(By.XPATH, \"//select[contains(@class, 'select_rt')]\")\n",
    "# option.click()"
   ]
  },
  {
   "cell_type": "code",
   "execution_count": null,
   "id": "ce6c0253",
   "metadata": {},
   "outputs": [],
   "source": [
    "# option = driver.find_element(By.XPATH, \"//select[contains(@class, 'select_rt')]/option[text()='Price : Highest']\")\n",
    "# option.click()"
   ]
  },
  {
   "cell_type": "code",
   "execution_count": null,
   "id": "8c217ec5",
   "metadata": {},
   "outputs": [],
   "source": [
    "select = Select(driver.find_element(By.XPATH, \"//select[contains(@class, 'select_rt')]\"))\n",
    "\n",
    "# select by value \n",
    "# select.select_by_index(2)\n",
    "\n",
    "# select by visible text\n",
    "select.select_by_visible_text('Price : Highest')\n",
    "\n",
    "time.sleep(1)"
   ]
  },
  {
   "cell_type": "code",
   "execution_count": null,
   "id": "501a17cf",
   "metadata": {},
   "outputs": [],
   "source": [
    "replica = driver.find_element(By.XPATH, \"//em[contains(text(), 'replica')]\")\n",
    "replica.click()"
   ]
  },
  {
   "cell_type": "code",
   "execution_count": null,
   "id": "ebbd66bc",
   "metadata": {},
   "outputs": [],
   "source": [
    "# other selectors\n",
    "# driver.find_element_by_css_selector(\"input.header_search--input\")\n",
    "# driver.find_element_by_xpath(\"//input[@name='q']\")\n",
    "# driver.find_element_by_partial_link_text(\"link text\")"
   ]
  }
 ],
 "metadata": {
  "kernelspec": {
   "display_name": "Python 3",
   "language": "python",
   "name": "python3"
  },
  "language_info": {
   "codemirror_mode": {
    "name": "ipython",
    "version": 3
   },
   "file_extension": ".py",
   "mimetype": "text/x-python",
   "name": "python",
   "nbconvert_exporter": "python",
   "pygments_lexer": "ipython3",
   "version": "3.10.0"
  }
 },
 "nbformat": 4,
 "nbformat_minor": 5
}
