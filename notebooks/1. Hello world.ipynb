{
 "cells": [
  {
   "cell_type": "code",
   "execution_count": 16,
   "id": "0e2747b9",
   "metadata": {},
   "outputs": [],
   "source": [
    "# import required library\n",
    "from selenium import webdriver\n",
    "from selenium.webdriver.chrome.service import Service as ChromeService\n",
    "# from selenium.webdriver.edge.service import Service as EdgeService\n",
    "\n",
    "import time"
   ]
  },
  {
   "cell_type": "code",
   "execution_count": 17,
   "id": "d57d3d4b",
   "metadata": {},
   "outputs": [],
   "source": [
    "# get chrome driver\n",
    "chrome_service = ChromeService(r'..\\drivers\\chrome-driver.exe')\n",
    "driver = webdriver.Chrome(service=chrome_service)"
   ]
  },
  {
   "cell_type": "code",
   "execution_count": 18,
   "id": "dea588c3",
   "metadata": {},
   "outputs": [],
   "source": [
    "# get edge driver\n",
    "# edge_service = EdgeService(r'..\\drivers\\edge-driver.exe')\n",
    "# driver = webdriver.Edge(service=edge_service)"
   ]
  },
  {
   "cell_type": "code",
   "execution_count": 19,
   "id": "ae028bc9",
   "metadata": {},
   "outputs": [],
   "source": [
    "# open web page\n",
    "driver.get(\"https://www.google.com\")"
   ]
  },
  {
   "cell_type": "code",
   "execution_count": 20,
   "id": "a0ff0d36",
   "metadata": {},
   "outputs": [],
   "source": [
    "# wait for 5 seconds\n",
    "time.sleep(5)\n",
    "\n",
    "# close browser\n",
    "driver.quit()"
   ]
  }
 ],
 "metadata": {
  "kernelspec": {
   "display_name": "Python 3",
   "language": "python",
   "name": "python3"
  },
  "language_info": {
   "codemirror_mode": {
    "name": "ipython",
    "version": 3
   },
   "file_extension": ".py",
   "mimetype": "text/x-python",
   "name": "python",
   "nbconvert_exporter": "python",
   "pygments_lexer": "ipython3",
   "version": "3.10.0"
  }
 },
 "nbformat": 4,
 "nbformat_minor": 5
}
