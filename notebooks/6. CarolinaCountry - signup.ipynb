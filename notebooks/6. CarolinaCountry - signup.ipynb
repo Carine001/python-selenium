{
 "cells": [
  {
   "cell_type": "code",
   "execution_count": 88,
   "id": "0e2747b9",
   "metadata": {},
   "outputs": [],
   "source": [
    "# import required library\n",
    "from selenium import webdriver\n",
    "from selenium.webdriver.chrome.service import Service as ChromeService\n",
    "from selenium.webdriver.common.keys import Keys\n",
    "from selenium.webdriver.common.by import By\n",
    "from selenium.webdriver.support.ui import WebDriverWait\n",
    "from selenium.webdriver.support import expected_conditions as EC\n",
    "from selenium.webdriver.support.ui import Select\n",
    "\n",
    "import time"
   ]
  },
  {
   "cell_type": "code",
   "execution_count": 89,
   "id": "d57d3d4b",
   "metadata": {},
   "outputs": [],
   "source": [
    "# get chrome driver\n",
    "chrome_service = ChromeService(r'..\\drivers\\chromedriver.exe')"
   ]
  },
  {
   "cell_type": "code",
   "execution_count": 90,
   "id": "3056f54d",
   "metadata": {},
   "outputs": [],
   "source": [
    "# add options for the driver\n",
    "options = webdriver.ChromeOptions()\n",
    "\n",
    "options.add_argument(\"--start-maximized\")\n",
    "\n",
    "# assign options to the driver\n",
    "driver = webdriver.Chrome(service=chrome_service, options=options)"
   ]
  },
  {
   "cell_type": "code",
   "execution_count": 91,
   "id": "743311ba",
   "metadata": {},
   "outputs": [],
   "source": [
    "# open web page\n",
    "driver.get(\"https://www.carolinacountry.com/register\")\n",
    "time.sleep(1)"
   ]
  },
  {
   "cell_type": "code",
   "execution_count": 92,
   "id": "e999bb82",
   "metadata": {},
   "outputs": [],
   "source": [
    "# name\n",
    "name = driver.find_element(By.ID, \"jform_name\")\n",
    "name.send_keys(Keys.CONTROL + \"a\")\n",
    "name.send_keys(Keys.DELETE)\n",
    "name.send_keys(\"John DOE\")\n",
    "\n",
    "# username\n",
    "username = driver.find_element(By.ID, \"jform_username\")\n",
    "username.send_keys(Keys.CONTROL + \"a\")\n",
    "username.send_keys(Keys.DELETE)\n",
    "username.send_keys(\"john.doe\")\n",
    "\n",
    "# password https://passwordsgenerator.net/\n",
    "password1 = driver.find_element(By.ID, \"jform_password1\")\n",
    "password1.send_keys(Keys.CONTROL + \"a\")\n",
    "password1.send_keys(Keys.DELETE)\n",
    "password1.send_keys(\"@9B2ARR*rB5p5V5L\")\n",
    "\n",
    "# password verification\n",
    "password2 = driver.find_element(By.ID, \"jform_password2\")\n",
    "password2.send_keys(Keys.CONTROL + \"a\")\n",
    "password2.send_keys(Keys.DELETE)\n",
    "password2.send_keys(\"@9B2ARR*rB5p5V5L\")\n",
    "\n",
    "# email https://temp-mail.org/en/\n",
    "email1 = driver.find_element(By.ID, \"jform_email1\")\n",
    "email1.send_keys(Keys.CONTROL + \"a\")\n",
    "email1.send_keys(Keys.DELETE)\n",
    "email1.send_keys(\"fidojek538@hypteo.com\")\n",
    "\n",
    "# email confirmation\n",
    "email2 = driver.find_element(By.ID, \"jform_email2\")\n",
    "email2.send_keys(Keys.CONTROL + \"a\")\n",
    "email2.send_keys(Keys.DELETE)\n",
    "email2.send_keys(\"fidojek538@hypteo.com\")\n",
    "\n",
    "# newsletter\n",
    "newsletter = driver.find_element(By.XPATH, \"//input[@type='checkbox']\")\n",
    "newsletter.click()\n",
    "\n",
    "# reCaptcha\n",
    "# WebDriverWait(driver, 10).until(EC.frame_to_be_available_and_switch_to_it((By.CSS_SELECTOR,\"iframe[name^='a-'][src^='https://www.google.com/recaptcha/api2/anchor?']\")))\n",
    "# WebDriverWait(driver, 10).until(EC.element_to_be_clickable((By.XPATH, \"//span[@id='recaptcha-anchor']\"))).click()\n",
    "\n",
    "# co-op\n",
    "coop = driver.find_element(By.XPATH, \"//select[@id='jform_com_fields_coop']\")\n",
    "options = coop.find_elements(By.TAG_NAME, \"option\")\n",
    "\n",
    "for option in options:\n",
    "  if option.text == \"None\":\n",
    "    option.click()\n",
    "    \n",
    "# select = Select(driver.find_element(By.XPATH, \"//select[@id='jform_com_fields_coop']\"))\n",
    "# select.select_by_visible_text('None')\n",
    "\n",
    "# agree terms\n",
    "agree = driver.find_element(By.XPATH, \".//*[contains(text(), 'Agree')]\")\n",
    "agree.click()"
   ]
  }
 ],
 "metadata": {
  "kernelspec": {
   "display_name": "Python 3",
   "language": "python",
   "name": "python3"
  },
  "language_info": {
   "codemirror_mode": {
    "name": "ipython",
    "version": 3
   },
   "file_extension": ".py",
   "mimetype": "text/x-python",
   "name": "python",
   "nbconvert_exporter": "python",
   "pygments_lexer": "ipython3",
   "version": "3.10.0"
  }
 },
 "nbformat": 4,
 "nbformat_minor": 5
}
