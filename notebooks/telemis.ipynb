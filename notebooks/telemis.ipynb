{
 "cells": [
  {
   "cell_type": "code",
   "execution_count": null,
   "metadata": {},
   "outputs": [],
   "source": [
    "# import required library\n",
    "import time\n",
    "\n",
    "from selenium import webdriver\n",
    "from selenium.webdriver.chrome.service import Service as ChromeService\n",
    "from selenium.webdriver.common.by import By\n",
    "from selenium.webdriver.common.keys import Keys\n",
    "from selenium.webdriver.support import expected_conditions as EC\n",
    "from selenium.webdriver.support.ui import WebDriverWait\n",
    "from selenium.webdriver.support.ui import Select\n",
    "\n",
    "# get chrome driver\n",
    "chrome_service = ChromeService(r\"..\\drivers\\chromedriver.exe\")\n",
    "\n",
    "\n",
    "# add options for the driver\n",
    "options = webdriver.ChromeOptions()\n",
    "\n",
    "options.add_argument(\"--start-maximized\")\n",
    "\n",
    "# assign options to the driver\n",
    "driver = webdriver.Chrome(service=chrome_service, options=options)\n",
    "\n",
    "# open web page\n",
    "driver.get(\"https://be-test22:8443/site/\")\n",
    "time.sleep(1)\n",
    "\n",
    "# username\n",
    "username = driver.find_element(By.ID, \"username\")\n",
    "username.send_keys(\"radio\")\n",
    "\n",
    "# password\n",
    "password = driver.find_element(By.ID, \"password\")\n",
    "password.send_keys(\"radio\")\n",
    "\n",
    "login = driver.find_element(By.NAME, \"login\")\n",
    "login.click()\n",
    "\n",
    "dicomgate = driver.find_element(By.ID, \"mat-expansion-panel-header-6\")\n",
    "dicomgate.click()\n",
    "\n",
    "selectdicom = driver.find_element(By.LINK_TEXT, \"Dicom gate\")\n",
    "selectdicom.click()"
   ]
  },
  {
   "cell_type": "code",
   "execution_count": null,
   "metadata": {},
   "outputs": [],
   "source": [
    "# WebDriverWait(driver, 10).until(EC.frame_to_be_available_and_switch_to_it((By.CSS_SELECTOR, \"iframe[src^='https://be-test22:9920']\")))\n",
    "# WebDriverWait(driver, 10).until(EC.element_to_be_clickable((By.CLASS_NAME, \"btn-success\"))).click()\n",
    "# WebDriverWait(driver, 10).until(EC.element_to_be_clickable((By.NAME, \"id\"))).send_keys(\"test\")\n",
    "\n",
    "# driver.find_element(By.XPATH, \"//*[@id='mat-select-1']\").click()\n",
    "# driver.find_element(By.XPATH, \"//*[@id='mat-option-6']\").click()\n",
    "\n",
    "# driver.find_element(By.XPATH, \"//*[@id='mat-select-2']\").click()\n",
    "# driver.find_element(By.XPATH, \"//*[@id='mat-option-11']\").click()\n",
    "\n",
    "# password = driver.find_element(By.ID, \"mat-input-3\")\n",
    "# password.send_keys(\"testdescription\")\n",
    "\n",
    "\n",
    "# driver.find_element(By.CLASS_NAME, \"confirm-button-trigger\").click()\n",
    "# driver.find_element(By.CLASS_NAME, \"confirm-button-target\").click()\n",
    "\n",
    "\n"
   ]
  },
  {
   "cell_type": "code",
   "execution_count": null,
   "metadata": {},
   "outputs": [],
   "source": [
    "# WebDriverWait(driver, 10).until(EC.frame_to_be_available_and_switch_to_it((By.CSS_SELECTOR, \"iframe[src^='https://be-test22:9920']\")))\n",
    "# WebDriverWait(driver, 10).until(EC.element_to_be_clickable((By.CLASS_NAME, \"btn-success\"))).click()\n",
    "# WebDriverWait(driver, 10).until(EC.element_to_be_clickable((By.NAME, \"id\"))).send_keys(\"test\")\n",
    "\n",
    "# #cocher la case , remplir le reste\n",
    "# driver.find_element(By.XPATH, \"//*[@id='mat-checkbox-1']/label/div\").click()\n",
    "\n"
   ]
  },
  {
   "cell_type": "code",
   "execution_count": null,
   "metadata": {},
   "outputs": [],
   "source": [
    "WebDriverWait(driver, 10).until(EC.frame_to_be_available_and_switch_to_it((By.CSS_SELECTOR, \"iframe[src^='https://be-test22:9920']\")))\n",
    "WebDriverWait(driver, 10).until(EC.element_to_be_clickable((By.XPATH, \"//a[contains(@href, 'ports')]\"))).click()\n",
    "WebDriverWait(driver, 10).until(EC.element_to_be_clickable((By.CLASS_NAME, \"btn-success\"))).click()"
   ]
  },
  {
   "cell_type": "code",
   "execution_count": null,
   "metadata": {},
   "outputs": [],
   "source": [
    "# # leave the iframe\n",
    "# driver.switch_to.default_content()\n",
    "# time.sleep(3)\n",
    "# driver.quit()\n"
   ]
  }
 ],
 "metadata": {
  "interpreter": {
   "hash": "b89b5cfaba6639976dc87ff2fec6d58faec662063367e2c229c520fe71072417"
  },
  "kernelspec": {
   "display_name": "Python 3.10.0 64-bit",
   "language": "python",
   "name": "python3"
  },
  "language_info": {
   "codemirror_mode": {
    "name": "ipython",
    "version": 3
   },
   "file_extension": ".py",
   "mimetype": "text/x-python",
   "name": "python",
   "nbconvert_exporter": "python",
   "pygments_lexer": "ipython3",
   "version": "3.10.0"
  },
  "orig_nbformat": 4
 },
 "nbformat": 4,
 "nbformat_minor": 2
}
