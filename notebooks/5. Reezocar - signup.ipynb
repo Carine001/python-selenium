{
 "cells": [
  {
   "cell_type": "code",
   "execution_count": 202,
   "id": "0e2747b9",
   "metadata": {},
   "outputs": [],
   "source": [
    "# import required library\n",
    "from selenium import webdriver\n",
    "from selenium.webdriver.chrome.service import Service as ChromeService\n",
    "from selenium.webdriver.common.keys import Keys\n",
    "from selenium.webdriver.common.by import By\n",
    "\n",
    "import time"
   ]
  },
  {
   "cell_type": "code",
   "execution_count": 203,
   "id": "d57d3d4b",
   "metadata": {},
   "outputs": [],
   "source": [
    "# get chrome driver\n",
    "chrome_service = ChromeService(r'..\\drivers\\chromedriver.exe')"
   ]
  },
  {
   "cell_type": "code",
   "execution_count": 204,
   "id": "3056f54d",
   "metadata": {},
   "outputs": [],
   "source": [
    "# add options for the driver\n",
    "options = webdriver.ChromeOptions()\n",
    "\n",
    "options.add_argument(\"--start-maximized\")\n",
    "\n",
    "# assign options to the driver\n",
    "driver = webdriver.Chrome(service=chrome_service, options=options)"
   ]
  },
  {
   "cell_type": "code",
   "execution_count": 205,
   "id": "743311ba",
   "metadata": {},
   "outputs": [],
   "source": [
    "# open web page\n",
    "driver.get(\"https://www.reezocar.com/en/\")\n",
    "time.sleep(1)"
   ]
  },
  {
   "cell_type": "code",
   "execution_count": 206,
   "id": "501a17cf",
   "metadata": {},
   "outputs": [],
   "source": [
    "login = driver.find_element(By.XPATH, \"//button[contains(text(), 'Login')]\")\n",
    "login.click()\n",
    "time.sleep(1)"
   ]
  },
  {
   "cell_type": "code",
   "execution_count": 207,
   "id": "ff0d33dc",
   "metadata": {},
   "outputs": [],
   "source": [
    "signup = driver.find_element(By.XPATH, \"//button[contains(text(), 'Sign up')]\")\n",
    "signup.click()\n",
    "time.sleep(1)"
   ]
  },
  {
   "cell_type": "code",
   "execution_count": 208,
   "id": "7036f830",
   "metadata": {},
   "outputs": [],
   "source": [
    "signup = driver.find_element(By.XPATH, \"//button[contains(text(), 'Register with an email')]\")\n",
    "signup.click()\n",
    "time.sleep(1)"
   ]
  },
  {
   "cell_type": "code",
   "execution_count": 209,
   "id": "1c3005f6",
   "metadata": {},
   "outputs": [],
   "source": [
    "# element = driver.find_element(By.CSS_SELECTOR, \"input[type='radio'][value='1']\")\n",
    "# element.click()\n",
    "# => if you are getting Exception as like Element is not clickable, you can use driver.execute_script(\"arguments[0].click()\", element) to perform click\n",
    "\n",
    "man = driver.find_element(By.XPATH, \".//input[@type='radio' and @value='1']\")\n",
    "driver.execute_script(\"arguments[0].click();\", man)"
   ]
  },
  {
   "cell_type": "code",
   "execution_count": 210,
   "id": "e999bb82",
   "metadata": {},
   "outputs": [],
   "source": [
    "# first name\n",
    "first_name = driver.find_element(By.NAME, \"firstname\")\n",
    "# first_name.clear()\n",
    "# => in most recent versions of selenium clear is not working\n",
    "first_name.send_keys(Keys.CONTROL + \"a\")\n",
    "first_name.send_keys(Keys.DELETE)\n",
    "first_name.send_keys(\"John\")\n",
    "\n",
    "# last name\n",
    "last_name = driver.find_element(By.NAME, \"lastname\")\n",
    "last_name.send_keys(Keys.CONTROL + \"a\")\n",
    "last_name.send_keys(Keys.DELETE)\n",
    "last_name.send_keys(\"DOE\")\n",
    "\n",
    "# email\n",
    "email = driver.find_element(By.NAME, \"email\")\n",
    "email.send_keys(Keys.CONTROL + \"a\")\n",
    "email.send_keys(Keys.DELETE)\n",
    "email.send_keys(\"fidojek538@hypteo.com\") # https://temp-mail.org/en/\n",
    "\n",
    "# password\n",
    "password = driver.find_element(By.NAME, \"password\")\n",
    "password.send_keys(Keys.CONTROL + \"a\")\n",
    "password.send_keys(Keys.DELETE)\n",
    "password.send_keys(\"m/z.<)<r3pt;&Ncd\") # https://passwordsgenerator.net/\n",
    "\n",
    "# signup\n",
    "signup = driver.find_element(By.XPATH, \"//button[contains(text(), 'sign up')]\")\n",
    "signup.click()"
   ]
  }
 ],
 "metadata": {
  "kernelspec": {
   "display_name": "Python 3",
   "language": "python",
   "name": "python3"
  },
  "language_info": {
   "codemirror_mode": {
    "name": "ipython",
    "version": 3
   },
   "file_extension": ".py",
   "mimetype": "text/x-python",
   "name": "python",
   "nbconvert_exporter": "python",
   "pygments_lexer": "ipython3",
   "version": "3.10.0"
  }
 },
 "nbformat": 4,
 "nbformat_minor": 5
}
