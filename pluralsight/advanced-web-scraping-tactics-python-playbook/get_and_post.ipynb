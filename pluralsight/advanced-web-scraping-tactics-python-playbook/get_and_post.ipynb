{
 "cells": [
  {
   "cell_type": "markdown",
   "metadata": {},
   "source": [
    "### GET Forms"
   ]
  },
  {
   "cell_type": "code",
   "execution_count": null,
   "metadata": {},
   "outputs": [],
   "source": [
    "import requests\n",
    "from bs4 import BeautifulSoup"
   ]
  },
  {
   "cell_type": "code",
   "execution_count": null,
   "metadata": {},
   "outputs": [],
   "source": [
    "content = requests.get(\"https://www.imdb.com/find?q=Mark&s=nm&exact=true&ref_=fn_nm_ex\")"
   ]
  },
  {
   "cell_type": "code",
   "execution_count": null,
   "metadata": {},
   "outputs": [],
   "source": [
    "doc = BeautifulSoup(content.text, 'html.parser')"
   ]
  },
  {
   "cell_type": "code",
   "execution_count": null,
   "metadata": {},
   "outputs": [],
   "source": [
    "# Grab all of the titles\n",
    "name_tags = doc.find_all(class_=\"result_text\")\n",
    "\n",
    "# Let's print the first 5\n",
    "for name in name_tags:\n",
    "    print(name.a.string)"
   ]
  },
  {
   "cell_type": "markdown",
   "metadata": {},
   "source": [
    "### Submitting POST Forms"
   ]
  },
  {
   "cell_type": "code",
   "execution_count": null,
   "metadata": {},
   "outputs": [],
   "source": [
    "response = requests.get(\"https://search.dca.ca.gov/results\")\n",
    "doc = BeautifulSoup(response.text, 'html.parser')\n",
    "\n",
    "# Grab all of the rows\n",
    "name_tags = doc.find_all(\"h3\")\n",
    "\n",
    "# Let's print the first 5\n",
    "for name in name_tags:\n",
    "    print(name.text)"
   ]
  },
  {
   "cell_type": "code",
   "execution_count": null,
   "metadata": {},
   "outputs": [],
   "source": [
    "response.text"
   ]
  },
  {
   "cell_type": "code",
   "execution_count": null,
   "metadata": {},
   "outputs": [],
   "source": [
    "data = {\n",
    "    'lastName': 'Kelly',\n",
    "    'firstName': 'John',\n",
    "    'boardCode': '9',\n",
    "    'licenseNumber': '',\n",
    "    'licenseType' : '250',\n",
    "    'registryNumber': ''\n",
    "}\n",
    "\n",
    "url = \"https://search.dca.ca.gov/results\""
   ]
  },
  {
   "cell_type": "code",
   "execution_count": null,
   "metadata": {},
   "outputs": [],
   "source": [
    "response = requests.post(url, data=data)\n",
    "doc = BeautifulSoup(response.text, 'html.parser')\n",
    "\n",
    "# Grabbing all the name tags\n",
    "name_tags = doc.find_all(\"h3\")\n",
    "\n",
    "# Let's print the first 5\n",
    "for name in name_tags:\n",
    "    print(name.text)"
   ]
  },
  {
   "cell_type": "code",
   "execution_count": null,
   "metadata": {},
   "outputs": [],
   "source": []
  }
 ],
 "metadata": {
  "kernelspec": {
   "display_name": "Python 3",
   "language": "python",
   "name": "python3"
  },
  "language_info": {
   "codemirror_mode": {
    "name": "ipython",
    "version": 3
   },
   "file_extension": ".py",
   "mimetype": "text/x-python",
   "name": "python",
   "nbconvert_exporter": "python",
   "pygments_lexer": "ipython3",
   "version": "3.7.4"
  }
 },
 "nbformat": 4,
 "nbformat_minor": 2
}
